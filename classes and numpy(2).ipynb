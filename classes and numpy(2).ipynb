{
 "cells": [
  {
   "cell_type": "markdown",
   "metadata": {},
   "source": [
    "\n",
    "\n",
    "## Classes:\n",
    "\n",
    "Create a class in Python to represent fractions. The internal representation contains two integers (the numerator and denominator). \n",
    "\n",
    "The functions in the class should include:\n",
    "   * multiplication (a/b * c/d)\n",
    "   * print the fraction (in the form a/b) (hint: use \\__str__ function)\n",
    "   * invert the fraction (a/b becomes b/a)\n",
    "\n",
    "#### Example usage of this class:\n",
    "\n",
    "frac = Fraction(3, 4) # Fraction 3/4\n",
    "\n",
    "frac2 = Fraction(4, 3) # Fraction 4/3\n",
    "\n",
    "frac.multiply(frac2)\n",
    "\n",
    "print(frac)\n",
    "\n",
    "frac.invert()"
   ]
  },
  {
   "cell_type": "code",
   "execution_count": 2,
   "metadata": {},
   "outputs": [
    {
     "name": "stdout",
     "output_type": "stream",
     "text": [
      "1/3\n",
      "5/3\n"
     ]
    }
   ],
   "source": [
    "def gcd(m,n):\n",
    "    while m%n != 0:\n",
    "        oldm = m\n",
    "        oldn = n\n",
    "\n",
    "        m = oldn\n",
    "        n = oldm%oldn\n",
    "    return n\n",
    "\n",
    "class Fraction:\n",
    "     def __init__(self,top,bottom):\n",
    "         self.num = top\n",
    "         self.den = bottom\n",
    "\n",
    "     def __str__(self):\n",
    "         return str(self.num)+\"/\"+str(self.den)\n",
    "\n",
    "     def show(self):\n",
    "         print(self.num,\"/\",self.den)\n",
    "\n",
    "     def __mul__(self,otherfraction):\n",
    "         newnum = self.num*otherfraction.num\n",
    "         newden = self.den * otherfraction.den\n",
    "         common = gcd(newnum,newden)\n",
    "         return Fraction(newnum//common,newden//common)\n",
    "\n",
    "     def __eq__(self, other):\n",
    "         firstnum = self.num * other.den\n",
    "         secondnum = other.num * self.den\n",
    "\n",
    "         return firstnum == secondnum\n",
    "     def invert(fraction):\n",
    "         return Fraction(fraction.den,fraction.num)\n",
    "x = Fraction(1,2)\n",
    "y = Fraction(2,3)\n",
    "print(x*y)\n",
    "z=Fraction.invert(Fraction(3,5))\n",
    "print(z)\n"
   ]
  },
  {
   "cell_type": "markdown",
   "metadata": {},
   "source": [
    "## Numpy:"
   ]
  },
  {
   "cell_type": "code",
   "execution_count": 3,
   "metadata": {},
   "outputs": [
    {
     "name": "stdout",
     "output_type": "stream",
     "text": [
      "enter number of elements5\n",
      "2\n",
      "3\n",
      "4\n",
      "5\n",
      "6\n",
      "[2 3 4 5 6]\n"
     ]
    }
   ],
   "source": [
    "# Get a list of integers as input from the user and convert it into a numpy array.\n",
    "import numpy as np\n",
    "list=[]\n",
    "n=int(input(\"enter number of elements\"))\n",
    "for i in range(n):\n",
    "    ele=int(input())\n",
    "    list.append(ele)\n",
    "a=np.array(list)\n",
    "print(a)\n"
   ]
  },
  {
   "cell_type": "code",
   "execution_count": 4,
   "metadata": {},
   "outputs": [
    {
     "data": {
      "text/plain": [
       "array([[1, 1, 1, 1, 1],\n",
       "       [1, 1, 1, 1, 1],\n",
       "       [1, 1, 1, 1, 1],\n",
       "       [1, 1, 1, 1, 1]])"
      ]
     },
     "execution_count": 4,
     "metadata": {},
     "output_type": "execute_result"
    }
   ],
   "source": [
    "# Create an array of ones (all elements in the array is one) of shape (4, 5) [three rows and 5 columns]. \n",
    "import numpy as np\n",
    "np.ones((4,5),dtype=int)\n"
   ]
  },
  {
   "cell_type": "code",
   "execution_count": 5,
   "metadata": {},
   "outputs": [
    {
     "data": {
      "text/plain": [
       "'\\nGiven the following array,\\n\\nX = [[2, 5]\\n    [1, 5],\\n    [0, 7]]\\n    \\nWrite numpy slicing code to get the following as output:\\n\\n1. [2, 1, 0]\\n2. [1, 5]\\n3. 7\\n4. [2, 7, 0]  (hint, use a list of indices)\\n\\n'"
      ]
     },
     "execution_count": 5,
     "metadata": {},
     "output_type": "execute_result"
    }
   ],
   "source": [
    "'''\n",
    "Given the following array,\n",
    "\n",
    "X = [[2, 5]\n",
    "    [1, 5],\n",
    "    [0, 7]]\n",
    "    \n",
    "Write numpy slicing code to get the following as output:\n",
    "\n",
    "1. [2, 1, 0]\n",
    "2. [1, 5]\n",
    "3. 7\n",
    "4. [2, 7, 0]  (hint, use a list of indices)\n",
    "\n",
    "'''\n",
    "\n"
   ]
  },
  {
   "cell_type": "code",
   "execution_count": 6,
   "metadata": {},
   "outputs": [
    {
     "data": {
      "text/plain": [
       "array([2, 1, 0])"
      ]
     },
     "execution_count": 6,
     "metadata": {},
     "output_type": "execute_result"
    }
   ],
   "source": [
    "a=np.array([[2, 5],\n",
    "           [1, 5],\n",
    "           [0, 7]])\n",
    "a[ :,0]"
   ]
  },
  {
   "cell_type": "code",
   "execution_count": 8,
   "metadata": {},
   "outputs": [
    {
     "data": {
      "text/plain": [
       "array([1, 5])"
      ]
     },
     "execution_count": 8,
     "metadata": {},
     "output_type": "execute_result"
    }
   ],
   "source": [
    "a[1,:]"
   ]
  },
  {
   "cell_type": "code",
   "execution_count": 9,
   "metadata": {},
   "outputs": [
    {
     "data": {
      "text/plain": [
       "7"
      ]
     },
     "execution_count": 9,
     "metadata": {},
     "output_type": "execute_result"
    }
   ],
   "source": [
    "a[2,1]"
   ]
  },
  {
   "cell_type": "code",
   "execution_count": null,
   "metadata": {},
   "outputs": [],
   "source": [
    "\n",
    "             "
   ]
  },
  {
   "cell_type": "code",
   "execution_count": 10,
   "metadata": {},
   "outputs": [
    {
     "data": {
      "text/plain": [
       "(5,)"
      ]
     },
     "execution_count": 10,
     "metadata": {},
     "output_type": "execute_result"
    }
   ],
   "source": [
    "# Create a numpy array and print its shape, dimensions, size and datatype\n",
    "import numpy as np\n",
    "n = np.array([1,6,4,9,3])\n",
    "n.shape\n"
   ]
  },
  {
   "cell_type": "code",
   "execution_count": 11,
   "metadata": {},
   "outputs": [
    {
     "data": {
      "text/plain": [
       "5"
      ]
     },
     "execution_count": 11,
     "metadata": {},
     "output_type": "execute_result"
    }
   ],
   "source": [
    "n.size"
   ]
  },
  {
   "cell_type": "code",
   "execution_count": 12,
   "metadata": {},
   "outputs": [
    {
     "data": {
      "text/plain": [
       "dtype('int32')"
      ]
     },
     "execution_count": 12,
     "metadata": {},
     "output_type": "execute_result"
    }
   ],
   "source": [
    "n.dtype"
   ]
  },
  {
   "cell_type": "code",
   "execution_count": 13,
   "metadata": {},
   "outputs": [
    {
     "data": {
      "text/plain": [
       "1"
      ]
     },
     "execution_count": 13,
     "metadata": {},
     "output_type": "execute_result"
    }
   ],
   "source": [
    "n.ndim"
   ]
  },
  {
   "cell_type": "code",
   "execution_count": 15,
   "metadata": {},
   "outputs": [
    {
     "name": "stdout",
     "output_type": "stream",
     "text": [
      "[[1. 1. 0. 1. 1.]\n",
      " [1. 1. 0. 1. 1.]\n",
      " [1. 1. 0. 1. 1.]\n",
      " [1. 1. 0. 1. 1.]]\n"
     ]
    }
   ],
   "source": [
    "# Create a copy of a numpy array using .copy(), change the copy's value and print both arrays\n",
    "x=np.ones((4,5),dtype=float)\n",
    "y=x\n",
    "y[:,2]=0\n",
    "print(x)\n"
   ]
  },
  {
   "cell_type": "code",
   "execution_count": 16,
   "metadata": {},
   "outputs": [
    {
     "data": {
      "text/plain": [
       "array([[1, 2, 3],\n",
       "       [4, 5, 4],\n",
       "       [5, 6, 7],\n",
       "       [8, 7, 8],\n",
       "       [9, 5, 4]])"
      ]
     },
     "execution_count": 16,
     "metadata": {},
     "output_type": "execute_result"
    }
   ],
   "source": [
    "# Create a numpy array of size 15 and print all possible reshaping.\n",
    "\n",
    "a=np.array([[1,2,3,4,5],\n",
    "          [4,5,6,7,8],\n",
    "          [7,8,9,5,4]])\n",
    "a.reshape((5,3))"
   ]
  },
  {
   "cell_type": "code",
   "execution_count": 17,
   "metadata": {},
   "outputs": [
    {
     "data": {
      "text/plain": [
       "array([[1, 2, 3, 4, 5, 4, 5, 6, 7, 8, 7, 8, 9, 5, 4]])"
      ]
     },
     "execution_count": 17,
     "metadata": {},
     "output_type": "execute_result"
    }
   ],
   "source": [
    "a.reshape((1,15))"
   ]
  },
  {
   "cell_type": "code",
   "execution_count": 18,
   "metadata": {},
   "outputs": [
    {
     "data": {
      "text/plain": [
       "array([[1],\n",
       "       [2],\n",
       "       [3],\n",
       "       [4],\n",
       "       [5],\n",
       "       [4],\n",
       "       [5],\n",
       "       [6],\n",
       "       [7],\n",
       "       [8],\n",
       "       [7],\n",
       "       [8],\n",
       "       [9],\n",
       "       [5],\n",
       "       [4]])"
      ]
     },
     "execution_count": 18,
     "metadata": {},
     "output_type": "execute_result"
    }
   ],
   "source": [
    "a.reshape((15,1))"
   ]
  },
  {
   "cell_type": "code",
   "execution_count": 24,
   "metadata": {},
   "outputs": [
    {
     "name": "stdout",
     "output_type": "stream",
     "text": [
      "[[83  0 17 98]\n",
      " [36 28 74 40]\n",
      " [64 25 68 96]]\n"
     ]
    },
    {
     "data": {
      "text/plain": [
       "0"
      ]
     },
     "execution_count": 24,
     "metadata": {},
     "output_type": "execute_result"
    }
   ],
   "source": [
    "# Create a random array of shape (3, 4) and find the maximum in it\n",
    "# hint : np.random.randint(0, 100, size=(3, 4))\n",
    "a=np.array(np.random.randint(0,100,size=(3,4)))\n",
    "print(a)\n",
    "np.amin(a)"
   ]
  },
  {
   "cell_type": "code",
   "execution_count": 25,
   "metadata": {},
   "outputs": [
    {
     "name": "stdout",
     "output_type": "stream",
     "text": [
      "[1 2 3 4 5]\n"
     ]
    }
   ],
   "source": [
    "# Sort the following array:\n",
    "# x = np.array([2, 1, 4, 3, 5])\n",
    "x = np.array([2, 1, 4, 3, 5])\n",
    "x.sort()\n",
    "print(x)\n"
   ]
  },
  {
   "cell_type": "code",
   "execution_count": 30,
   "metadata": {},
   "outputs": [
    {
     "name": "stdout",
     "output_type": "stream",
     "text": [
      "9\n",
      "88\n",
      "6\n",
      "45\n"
     ]
    }
   ],
   "source": [
    "# find the maximum element in each column of the folling array\n",
    "# a = np.array([[1,2,4,7], [9,88,6,45], [9,76,3,4]])\n",
    "A = np.array([[1,2,4,7], [9,88,6,45], [9,76,3,4]])\n",
    "for i in range(len(A[i])):\n",
    "    max_elm_col = np.amax(A[0:,i], axis=0)\n",
    "    print(max_elm_col)"
   ]
  },
  {
   "cell_type": "code",
   "execution_count": 27,
   "metadata": {},
   "outputs": [
    {
     "name": "stdout",
     "output_type": "stream",
     "text": [
      "[66 96 73 37 59 81 48 94 72 82 25 31 26 82 98]\n"
     ]
    }
   ],
   "source": [
    "# Try adding an array of shape (3,4) and another array of shape (3,1)\n",
    "a=np.array(np.random.randint(0,100,size=(3,4)))\n",
    "b=np.array(np.random.randint(0,100,size=(3,1)))\n",
    "c=np.append(a,b)\n",
    "print(c)\n"
   ]
  },
  {
   "cell_type": "code",
   "execution_count": 28,
   "metadata": {},
   "outputs": [
    {
     "name": "stdout",
     "output_type": "stream",
     "text": [
      "[ 55  78   8  25  35 847 521 629 501 274]\n"
     ]
    }
   ],
   "source": [
    "# Try adding an array of shape (5,) and (,5)\n",
    "import numpy as np\n",
    "a=np.array(np.random.randint(0,100,size=(5,)))\n",
    "b=np.array(np.random.randint(0,1000,size=(5,))).reshape((1,-1))\n",
    "c=np.append(a,b)\n",
    "print(c)\n"
   ]
  },
  {
   "cell_type": "code",
   "execution_count": 29,
   "metadata": {},
   "outputs": [
    {
     "name": "stdout",
     "output_type": "stream",
     "text": [
      "[11 64 95 50 14 93 11 85 70 56 19 52 61]\n"
     ]
    }
   ],
   "source": [
    "# Try adding two arrays of shape (3,3) and (2,2) each\n",
    "a=np.array(np.random.randint(0,100,size=(3,3)))\n",
    "b=np.array(np.random.randint(0,100,size=(2,2)))\n",
    "c=np.append(a,b)\n",
    "print(c)\n"
   ]
  },
  {
   "cell_type": "markdown",
   "metadata": {},
   "source": [
    "### That's it folks"
   ]
  }
 ],
 "metadata": {
  "kernelspec": {
   "display_name": "Python 3",
   "language": "python",
   "name": "python3"
  },
  "language_info": {
   "codemirror_mode": {
    "name": "ipython",
    "version": 3
   },
   "file_extension": ".py",
   "mimetype": "text/x-python",
   "name": "python",
   "nbconvert_exporter": "python",
   "pygments_lexer": "ipython3",
   "version": "3.8.3"
  }
 },
 "nbformat": 4,
 "nbformat_minor": 4
}
